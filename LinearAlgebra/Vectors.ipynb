{
 "cells": [
  {
   "cell_type": "code",
   "execution_count": 1,
   "id": "5ed96f11",
   "metadata": {},
   "outputs": [
    {
     "name": "stdout",
     "output_type": "stream",
     "text": [
      "[4, 6, 10]\n"
     ]
    }
   ],
   "source": [
    "v1=[1,2,4]\n",
    "v2=[3,4,6]\n",
    "add=[v1[i]+v2[i] for i in range (len(v1))]\n",
    "print(add)"
   ]
  },
  {
   "cell_type": "code",
   "execution_count": 2,
   "id": "6f6fd49a",
   "metadata": {},
   "outputs": [
    {
     "name": "stdout",
     "output_type": "stream",
     "text": [
      "35\n"
     ]
    }
   ],
   "source": [
    "dot=sum([v1[i]*v2[i] for i in range (len(v1))])\n",
    "print(dot)"
   ]
  },
  {
   "cell_type": "code",
   "execution_count": 3,
   "id": "09b1a53f",
   "metadata": {},
   "outputs": [
    {
     "name": "stdout",
     "output_type": "stream",
     "text": [
      "[3, 6, 12]\n"
     ]
    }
   ],
   "source": [
    "scalarProduct=[3* x for x in v1]\n",
    "print(scalarProduct)"
   ]
  },
  {
   "cell_type": "code",
   "execution_count": 4,
   "id": "12d0e8c3",
   "metadata": {},
   "outputs": [
    {
     "name": "stdout",
     "output_type": "stream",
     "text": [
      "[ 4  6 10]\n",
      "35\n",
      "[ 3  6 12]\n"
     ]
    }
   ],
   "source": [
    "import numpy as np \n",
    "v1=np.array([1,2,4])\n",
    "v2=np.array([3,4,6])\n",
    "add=np.add(v1,v2)\n",
    "print(add)\n",
    "dot=np.dot(v1,v2)\n",
    "print(dot)\n",
    "scalarProduct=np.multiply(3,v1)\n",
    "print(scalarProduct)"
   ]
  },
  {
   "cell_type": "code",
   "execution_count": 5,
   "id": "d970d474",
   "metadata": {},
   "outputs": [
    {
     "name": "stdout",
     "output_type": "stream",
     "text": [
      "[ 3  8 24]\n"
     ]
    }
   ],
   "source": [
    "hadamard=v1*v2\n",
    "print(hadamard)"
   ]
  },
  {
   "cell_type": "code",
   "execution_count": 11,
   "id": "c132cdcf",
   "metadata": {},
   "outputs": [
    {
     "name": "stdout",
     "output_type": "stream",
     "text": [
      "[[-4  6 -2]\n",
      " [-4  6 -2]\n",
      " [-4  6 -2]]\n"
     ]
    }
   ],
   "source": [
    "v1=np.array([[1,2,4],[2,3,5], [3,4,6]])\n",
    "v2=np.array([[3,4,6],[4,5,7],[5,6,8]])\n",
    "cross=np.cross(v1,v2)\n",
    "print(cross)"
   ]
  },
  {
   "cell_type": "code",
   "execution_count": 17,
   "id": "c7d334cc",
   "metadata": {},
   "outputs": [
    {
     "name": "stdout",
     "output_type": "stream",
     "text": [
      "[[ 3  4  6  4  5  7  5  6  8]\n",
      " [ 6  8 12  8 10 14 10 12 16]\n",
      " [12 16 24 16 20 28 20 24 32]\n",
      " [ 6  8 12  8 10 14 10 12 16]\n",
      " [ 9 12 18 12 15 21 15 18 24]\n",
      " [15 20 30 20 25 35 25 30 40]\n",
      " [ 9 12 18 12 15 21 15 18 24]\n",
      " [12 16 24 16 20 28 20 24 32]\n",
      " [18 24 36 24 30 42 30 36 48]]\n",
      "[[ 2  3  4]\n",
      " [ 4  6  8]\n",
      " [ 6  9 12]]\n"
     ]
    }
   ],
   "source": [
    "outerProduct=np.outer(v1,v2)\n",
    "print(outerProduct)\n",
    "a = np.array([1, 2,3])\n",
    "b = np.array([2,3, 4])\n",
    "outer = np.outer(a, b)\n",
    "print(outer)\n"
   ]
  },
  {
   "cell_type": "code",
   "execution_count": 14,
   "id": "ff64c8f0",
   "metadata": {},
   "outputs": [
    {
     "name": "stdout",
     "output_type": "stream",
     "text": [
      "(3, 3)\n",
      "(9, 9)\n"
     ]
    }
   ],
   "source": [
    "print(cross.shape)\n",
    "print(outerProduct.shape)"
   ]
  },
  {
   "cell_type": "code",
   "execution_count": 15,
   "id": "ff15f0da",
   "metadata": {},
   "outputs": [
    {
     "data": {
      "text/plain": [
       "<function print(*args, sep=' ', end='\\n', file=None, flush=False)>"
      ]
     },
     "execution_count": 15,
     "metadata": {},
     "output_type": "execute_result"
    }
   ],
   "source": [
    "KroneckerProduct=np.kron(v1,v2)\n",
    "print"
   ]
  },
  {
   "cell_type": "code",
   "execution_count": 16,
   "id": "ef95448c",
   "metadata": {},
   "outputs": [
    {
     "name": "stdout",
     "output_type": "stream",
     "text": [
      "[[ 0  5  0 10]\n",
      " [ 6  7 12 14]\n",
      " [ 0 15  0 20]\n",
      " [18 21 24 28]]\n"
     ]
    }
   ],
   "source": [
    "A = np.array([[1, 2], [3, 4]])\n",
    "B = np.array([[0, 5], [6, 7]])\n",
    "kron = np.kron(A, B)\n",
    "print(kron)"
   ]
  },
  {
   "cell_type": "code",
   "execution_count": null,
   "id": "549e6f40",
   "metadata": {},
   "outputs": [],
   "source": []
  }
 ],
 "metadata": {
  "kernelspec": {
   "display_name": "base",
   "language": "python",
   "name": "python3"
  },
  "language_info": {
   "codemirror_mode": {
    "name": "ipython",
    "version": 3
   },
   "file_extension": ".py",
   "mimetype": "text/x-python",
   "name": "python",
   "nbconvert_exporter": "python",
   "pygments_lexer": "ipython3",
   "version": "3.12.3"
  }
 },
 "nbformat": 4,
 "nbformat_minor": 5
}
